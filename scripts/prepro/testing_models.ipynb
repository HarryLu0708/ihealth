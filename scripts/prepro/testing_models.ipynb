{
 "cells": [
  {
   "cell_type": "code",
   "execution_count": 1,
   "metadata": {},
   "outputs": [],
   "source": [
    "from sklearn.ensemble import RandomForestRegressor\n",
    "from sklearn.model_selection import train_test_split\n",
    "import pandas as pd\n",
    "import numpy as np"
   ]
  },
  {
   "cell_type": "code",
   "execution_count": 4,
   "metadata": {},
   "outputs": [
    {
     "data": {
      "text/html": [
       "<div>\n",
       "<style scoped>\n",
       "    .dataframe tbody tr th:only-of-type {\n",
       "        vertical-align: middle;\n",
       "    }\n",
       "\n",
       "    .dataframe tbody tr th {\n",
       "        vertical-align: top;\n",
       "    }\n",
       "\n",
       "    .dataframe thead th {\n",
       "        text-align: right;\n",
       "    }\n",
       "</style>\n",
       "<table border=\"1\" class=\"dataframe\">\n",
       "  <thead>\n",
       "    <tr style=\"text-align: right;\">\n",
       "      <th></th>\n",
       "      <th>年龄</th>\n",
       "      <th>地区</th>\n",
       "      <th>经济水平</th>\n",
       "      <th>医疗保险所占赔偿比例</th>\n",
       "    </tr>\n",
       "  </thead>\n",
       "  <tbody>\n",
       "    <tr>\n",
       "      <th>0</th>\n",
       "      <td>64</td>\n",
       "      <td>南方</td>\n",
       "      <td>7</td>\n",
       "      <td>0.881005</td>\n",
       "    </tr>\n",
       "    <tr>\n",
       "      <th>1</th>\n",
       "      <td>67</td>\n",
       "      <td>南方</td>\n",
       "      <td>9</td>\n",
       "      <td>0.976404</td>\n",
       "    </tr>\n",
       "    <tr>\n",
       "      <th>2</th>\n",
       "      <td>20</td>\n",
       "      <td>西方</td>\n",
       "      <td>1</td>\n",
       "      <td>0.617658</td>\n",
       "    </tr>\n",
       "    <tr>\n",
       "      <th>3</th>\n",
       "      <td>23</td>\n",
       "      <td>北方</td>\n",
       "      <td>9</td>\n",
       "      <td>0.542499</td>\n",
       "    </tr>\n",
       "    <tr>\n",
       "      <th>4</th>\n",
       "      <td>23</td>\n",
       "      <td>西方</td>\n",
       "      <td>6</td>\n",
       "      <td>0.854614</td>\n",
       "    </tr>\n",
       "  </tbody>\n",
       "</table>\n",
       "</div>"
      ],
      "text/plain": [
       "   年龄  地区  经济水平  医疗保险所占赔偿比例\n",
       "0  64  南方     7    0.881005\n",
       "1  67  南方     9    0.976404\n",
       "2  20  西方     1    0.617658\n",
       "3  23  北方     9    0.542499\n",
       "4  23  西方     6    0.854614"
      ]
     },
     "execution_count": 4,
     "metadata": {},
     "output_type": "execute_result"
    }
   ],
   "source": [
    "# 创建一个示例DataFrame\n",
    "np.random.seed(0)  # 为了结果的可重复性\n",
    "data = {\n",
    "    '年龄': np.random.randint(20, 70, size=100),\n",
    "    '地区': np.random.choice(['北方', '南方', '东方', '西方'], size=100),\n",
    "    '经济水平': np.random.randint(1, 10, size=100),  # 假设经济水平是1到10的评分\n",
    "    '医疗保险所占赔偿比例': np.random.uniform(0, 1, size=100)  # 假设为0到1之间的小数\n",
    "}\n",
    "\n",
    "df = pd.DataFrame(data)\n",
    "df.head()"
   ]
  },
  {
   "cell_type": "code",
   "execution_count": 5,
   "metadata": {},
   "outputs": [],
   "source": [
    "from sklearn.model_selection import train_test_split\n",
    "from sklearn.preprocessing import LabelEncoder"
   ]
  },
  {
   "cell_type": "code",
   "execution_count": 6,
   "metadata": {},
   "outputs": [
    {
     "data": {
      "text/plain": [
       "(   年龄  地区  经济水平  医疗保险所占赔偿比例\n",
       " 0  64   2     7    0.881005\n",
       " 1  67   2     9    0.976404\n",
       " 2  20   3     1    0.617658\n",
       " 3  23   1     9    0.542499\n",
       " 4  23   3     6    0.854614,\n",
       " (80, 3),\n",
       " (20, 3))"
      ]
     },
     "execution_count": 6,
     "metadata": {},
     "output_type": "execute_result"
    }
   ],
   "source": [
    "\n",
    "# 对地区变量进行编码\n",
    "le = LabelEncoder()\n",
    "df['地区'] = le.fit_transform(df['地区'])\n",
    "\n",
    "# 分割数据为特征变量和目标变量\n",
    "X = df[['年龄', '地区', '经济水平']]  # 特征变量\n",
    "y = df['医疗保险所占赔偿比例']       # 目标变量\n",
    "\n",
    "# 划分数据集为训练集和测试集\n",
    "X_train, X_test, y_train, y_test = train_test_split(X, y, test_size=0.2, random_state=42)\n",
    "\n",
    "df.head(), X_train.shape, X_test.shape"
   ]
  },
  {
   "cell_type": "code",
   "execution_count": 11,
   "metadata": {},
   "outputs": [],
   "source": [
    "from sklearn.metrics import mean_squared_error, r2_score\n",
    "from sklearn.model_selection import cross_val_score"
   ]
  },
  {
   "cell_type": "code",
   "execution_count": 13,
   "metadata": {},
   "outputs": [
    {
     "name": "stdout",
     "output_type": "stream",
     "text": [
      "  Feature  Importance\n",
      "0      年龄    0.526416\n",
      "2    经济水平    0.241388\n",
      "1      地区    0.232196\n",
      "MSE: 0.08277622521681946, R²: -0.36318819933328395\n",
      "Cross-validated MSE: -0.09429186941933294\n",
      "OOB Error: 1.427486506812177\n"
     ]
    }
   ],
   "source": [
    "# 假设df是你的DataFrame\n",
    "\n",
    "# 分离特征和目标变量\n",
    "X = df[['年龄', '地区', '经济水平']]  # 特征变量\n",
    "y = df['医疗保险所占赔偿比例']       # 目标变量\n",
    "\n",
    "# 分割数据为训练集和测试集\n",
    "X_train, X_test, y_train, y_test = train_test_split(X, y, test_size=0.2, random_state=42)\n",
    "\n",
    "# 创建随机森林模型\n",
    "model = RandomForestRegressor(n_estimators=100, random_state=42, oob_score=True)\n",
    "\n",
    "# 训练模型\n",
    "model.fit(X_train, y_train)\n",
    "\n",
    "# 获取特征重要性\n",
    "feature_importances = model.feature_importances_\n",
    "\n",
    "# 创建特征重要性的DataFrame\n",
    "features_df = pd.DataFrame({'Feature': X.columns, 'Importance': feature_importances})\n",
    "\n",
    "# 打印特征重要性\n",
    "print(features_df.sort_values(by='Importance', ascending=False))\n",
    "\n",
    "y_pred = model.predict(X_test)\n",
    "\n",
    "# 计算MSE和R²\n",
    "mse = mean_squared_error(y_test, y_pred)\n",
    "r2 = r2_score(y_test, y_pred)\n",
    "\n",
    "# 使用交叉验证评估模型\n",
    "cross_val_scores = cross_val_score(model, X, y, cv=5, scoring='neg_mean_squared_error')\n",
    "\n",
    "# 计算OOB误差\n",
    "oob_error = 1 - model.oob_score_\n",
    "\n",
    "print(f'MSE: {mse}, R²: {r2}')\n",
    "print(f'Cross-validated MSE: {np.mean(cross_val_scores)}')\n",
    "print(f'OOB Error: {oob_error}')\n"
   ]
  },
  {
   "cell_type": "code",
   "execution_count": 8,
   "metadata": {},
   "outputs": [],
   "source": [
    "import statsmodels.api as sm"
   ]
  },
  {
   "cell_type": "code",
   "execution_count": 9,
   "metadata": {},
   "outputs": [
    {
     "name": "stdout",
     "output_type": "stream",
     "text": [
      "                            OLS Regression Results                            \n",
      "==============================================================================\n",
      "Dep. Variable:             医疗保险所占赔偿比例   R-squared:                       0.009\n",
      "Model:                            OLS   Adj. R-squared:                 -0.012\n",
      "Method:                 Least Squares   F-statistic:                    0.4168\n",
      "Date:                Tue, 19 Mar 2024   Prob (F-statistic):              0.660\n",
      "Time:                        19:31:05   Log-Likelihood:                -14.238\n",
      "No. Observations:                 100   AIC:                             34.48\n",
      "Df Residuals:                      97   BIC:                             42.29\n",
      "Df Model:                           2                                         \n",
      "Covariance Type:            nonrobust                                         \n",
      "==============================================================================\n",
      "                 coef    std err          t      P>|t|      [0.025      0.975]\n",
      "------------------------------------------------------------------------------\n",
      "const          0.5397      0.105      5.123      0.000       0.331       0.749\n",
      "年龄            -0.0011      0.002     -0.584      0.560      -0.005       0.003\n",
      "经济水平           0.0077      0.011      0.693      0.490      -0.014       0.030\n",
      "==============================================================================\n",
      "Omnibus:                       24.808   Durbin-Watson:                   1.956\n",
      "Prob(Omnibus):                  0.000   Jarque-Bera (JB):                5.973\n",
      "Skew:                          -0.204   Prob(JB):                       0.0505\n",
      "Kurtosis:                       1.874   Cond. No.                         169.\n",
      "==============================================================================\n",
      "\n",
      "Notes:\n",
      "[1] Standard Errors assume that the covariance matrix of the errors is correctly specified.\n"
     ]
    }
   ],
   "source": [
    "X = df[['年龄', '经济水平'] + [col for col in df.columns if col.startswith('地区_')]]\n",
    "y = df['医疗保险所占赔偿比例']\n",
    "\n",
    "# 添加常数项，以便模型包含截距\n",
    "X = sm.add_constant(X)\n",
    "\n",
    "# 建立模型并拟合数据\n",
    "model = sm.OLS(y, X).fit()\n",
    "\n",
    "# 打印模型的摘要\n",
    "print(model.summary())"
   ]
  },
  {
   "cell_type": "code",
   "execution_count": 14,
   "metadata": {},
   "outputs": [],
   "source": [
    "from sklearn.preprocessing import StandardScaler\n",
    "\n",
    "# 只选择数值列进行聚类\n",
    "data_for_clustering = df[['年龄', '经济水平', '地区']]  # 假设地区已经是数值化处理过的\n",
    "scaler = StandardScaler()\n",
    "data_scaled = scaler.fit_transform(data_for_clustering)"
   ]
  },
  {
   "cell_type": "code",
   "execution_count": 15,
   "metadata": {},
   "outputs": [
    {
     "data": {
      "image/png": "[encoded data removed]",
      "text/plain": [
       "<Figure size 1000x700 with 1 Axes>"
      ]
     },
     "metadata": {},
     "output_type": "display_data"
    }
   ],
   "source": [
    "from scipy.cluster.hierarchy import dendrogram, linkage\n",
    "import matplotlib.pyplot as plt\n",
    "\n",
    "# 使用Ward的方法计算链接矩阵\n",
    "linked = linkage(data_scaled, method='ward')\n",
    "\n",
    "# 绘制树状图\n",
    "plt.figure(figsize=(10, 7))\n",
    "dendrogram(linked, orientation='top', labels=df.index.tolist(), distance_sort='descending', show_leaf_counts=True)\n",
    "plt.title('Hierarchical Clustering Dendrogram')\n",
    "plt.xlabel('Sample Index')\n",
    "plt.ylabel('Distance')\n",
    "plt.show()"
   ]
  }
 ],
 "metadata": {
  "kernelspec": {
   "display_name": "Python 3",
   "language": "python",
   "name": "python3"
  },
  "language_info": {
   "codemirror_mode": {
    "name": "ipython",
    "version": 3
   },
   "file_extension": ".py",
   "mimetype": "text/x-python",
   "name": "python",
   "nbconvert_exporter": "python",
   "pygments_lexer": "ipython3",
   "version": "3.12.2"
  }
 },
 "nbformat": 4,
 "nbformat_minor": 2
}

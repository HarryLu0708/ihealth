{
 "cells": [
  {
   "cell_type": "code",
   "execution_count": 2,
   "metadata": {},
   "outputs": [],
   "source": [
    "import pandas as pd\n",
    "import numpy as np\n",
    "import matplotlib.pyplot as plt\n",
    "import seaborn as sns"
   ]
  },
  {
   "cell_type": "code",
   "execution_count": 3,
   "metadata": {},
   "outputs": [],
   "source": [
    "data = pd.read_csv(r\"C:\\Users\\luyil\\ihealth\\datasets\\preproc\\final_dataset.csv\")"
   ]
  },
  {
   "cell_type": "code",
   "execution_count": 4,
   "metadata": {},
   "outputs": [
    {
     "data": {
      "text/plain": [
       "Unnamed: 0                   int64\n",
       "payer                       object\n",
       "insurer_paid_amt_mean      float64\n",
       "insurer_paid_amt_sum       float64\n",
       "member_paid_amt_mean       float64\n",
       "member_paid_amt_sum        float64\n",
       "total_paid_amt_mean        float64\n",
       "total_paid_amt_sum         float64\n",
       "service_year               float64\n",
       "county_code                float64\n",
       "county_name                 object\n",
       "age_group_code             float64\n",
       "age_group_name              object\n",
       "sex                         object\n",
       "unique_member_cnt          float64\n",
       "svc_code_ctg_desc           object\n",
       "clm_cnt                    float64\n",
       "member_months              float64\n",
       "total_paid_amt_median      float64\n",
       "insurer_paid_amt_median    float64\n",
       "member_paid_amt_median     float64\n",
       "service                     object\n",
       "insurer_paid_sum_prop      float64\n",
       "insurer_paid_mean_prop     float64\n",
       "member_paid_sum_prop       float64\n",
       "member_paid_mean_prop      float64\n",
       "average_ops_cnt            float64\n",
       "sex_encoded                  int32\n",
       "service_encoded              int32\n",
       "payer_encoded                int32\n",
       "dtype: object"
      ]
     },
     "execution_count": 4,
     "metadata": {},
     "output_type": "execute_result"
    }
   ],
   "source": [
    "# Preprocessing\n",
    "from sklearn.preprocessing import LabelEncoder\n",
    "\n",
    "le = LabelEncoder()\n",
    "\n",
    "for col in ['sex', 'service', 'payer']:\n",
    "    data[col + '_encoded'] = le.fit_transform(data[col])\n",
    "\n",
    "data.dtypes"
   ]
  },
  {
   "cell_type": "code",
   "execution_count": 5,
   "metadata": {},
   "outputs": [
    {
     "data": {
      "text/plain": [
       "Unnamed: 0                   int64\n",
       "insurer_paid_amt_mean      float64\n",
       "insurer_paid_amt_sum       float64\n",
       "member_paid_amt_mean       float64\n",
       "member_paid_amt_sum        float64\n",
       "total_paid_amt_mean        float64\n",
       "total_paid_amt_sum         float64\n",
       "service_year               float64\n",
       "county_code                float64\n",
       "age_group_code             float64\n",
       "unique_member_cnt          float64\n",
       "clm_cnt                    float64\n",
       "member_months              float64\n",
       "total_paid_amt_median      float64\n",
       "insurer_paid_amt_median    float64\n",
       "member_paid_amt_median     float64\n",
       "insurer_paid_sum_prop      float64\n",
       "insurer_paid_mean_prop     float64\n",
       "member_paid_sum_prop       float64\n",
       "member_paid_mean_prop      float64\n",
       "average_ops_cnt            float64\n",
       "sex_encoded                  int32\n",
       "service_encoded              int32\n",
       "payer_encoded                int32\n",
       "dtype: object"
      ]
     },
     "execution_count": 5,
     "metadata": {},
     "output_type": "execute_result"
    }
   ],
   "source": [
    "drop_cols = [\"payer\",\"service\",\"sex\",\"county_name\",\"age_group_name\",\"svc_code_ctg_desc\"]\n",
    "new_data = data.drop(drop_cols,axis=1)\n",
    "new_data.dtypes"
   ]
  },
  {
   "cell_type": "code",
   "execution_count": 6,
   "metadata": {},
   "outputs": [],
   "source": [
    "# new_data.to_csv(r\"C:\\Users\\luyil\\ihealth\\datasets\\preproc\\data_for_ml.csv\")"
   ]
  },
  {
   "cell_type": "code",
   "execution_count": null,
   "metadata": {},
   "outputs": [],
   "source": []
  },
  {
   "cell_type": "code",
   "execution_count": 7,
   "metadata": {},
   "outputs": [],
   "source": [
    "import xgboost as xgb"
   ]
  },
  {
   "cell_type": "code",
   "execution_count": 8,
   "metadata": {},
   "outputs": [],
   "source": [
    "from sklearn.model_selection import train_test_split\n",
    "from sklearn.ensemble import RandomForestClassifier\n",
    "from sklearn.preprocessing import StandardScaler"
   ]
  },
  {
   "cell_type": "code",
   "execution_count": 9,
   "metadata": {},
   "outputs": [],
   "source": [
    "X = new_data.drop([\"age_group_code\"],axis=1)\n",
    "y = new_data[\"age_group_code\"]\n",
    "y = y - 1\n",
    "#ss = StandardScaler()\n",
    "#X = ss.fit_transform(X)"
   ]
  },
  {
   "cell_type": "code",
   "execution_count": 10,
   "metadata": {},
   "outputs": [
    {
     "data": {
      "text/plain": [
       "((5360548, 23), (1340137, 23), (5360548,), (1340137,))"
      ]
     },
     "execution_count": 10,
     "metadata": {},
     "output_type": "execute_result"
    }
   ],
   "source": [
    "X_train, X_test, y_train, y_test = train_test_split(X, y, test_size=0.2, random_state=42)\n",
    "\n",
    "X_train.shape, X_test.shape, y_train.shape, y_test.shape"
   ]
  },
  {
   "cell_type": "code",
   "execution_count": 11,
   "metadata": {},
   "outputs": [
    {
     "data": {
      "text/plain": [
       "array([2., 1., 4., 0., 3.])"
      ]
     },
     "execution_count": 11,
     "metadata": {},
     "output_type": "execute_result"
    }
   ],
   "source": [
    "y_train.unique()"
   ]
  },
  {
   "cell_type": "code",
   "execution_count": 12,
   "metadata": {},
   "outputs": [],
   "source": [
    "from sklearn.metrics import accuracy_score"
   ]
  },
  {
   "cell_type": "code",
   "execution_count": 16,
   "metadata": {},
   "outputs": [
    {
     "data": {
      "text/html": [
       "<div>\n",
       "<style scoped>\n",
       "    .dataframe tbody tr th:only-of-type {\n",
       "        vertical-align: middle;\n",
       "    }\n",
       "\n",
       "    .dataframe tbody tr th {\n",
       "        vertical-align: top;\n",
       "    }\n",
       "\n",
       "    .dataframe thead th {\n",
       "        text-align: right;\n",
       "    }\n",
       "</style>\n",
       "<table border=\"1\" class=\"dataframe\">\n",
       "  <thead>\n",
       "    <tr style=\"text-align: right;\">\n",
       "      <th></th>\n",
       "      <th>Unnamed: 0</th>\n",
       "      <th>insurer_paid_amt_mean</th>\n",
       "      <th>insurer_paid_amt_sum</th>\n",
       "      <th>member_paid_amt_mean</th>\n",
       "      <th>member_paid_amt_sum</th>\n",
       "      <th>total_paid_amt_mean</th>\n",
       "      <th>total_paid_amt_sum</th>\n",
       "      <th>service_year</th>\n",
       "      <th>county_code</th>\n",
       "      <th>unique_member_cnt</th>\n",
       "      <th>...</th>\n",
       "      <th>insurer_paid_amt_median</th>\n",
       "      <th>member_paid_amt_median</th>\n",
       "      <th>insurer_paid_sum_prop</th>\n",
       "      <th>insurer_paid_mean_prop</th>\n",
       "      <th>member_paid_sum_prop</th>\n",
       "      <th>member_paid_mean_prop</th>\n",
       "      <th>average_ops_cnt</th>\n",
       "      <th>sex_encoded</th>\n",
       "      <th>service_encoded</th>\n",
       "      <th>payer_encoded</th>\n",
       "    </tr>\n",
       "  </thead>\n",
       "  <tbody>\n",
       "    <tr>\n",
       "      <th>704084</th>\n",
       "      <td>716763</td>\n",
       "      <td>33.54</td>\n",
       "      <td>2247.75</td>\n",
       "      <td>4.38</td>\n",
       "      <td>293.66</td>\n",
       "      <td>37.93</td>\n",
       "      <td>2541.41</td>\n",
       "      <td>2011.0</td>\n",
       "      <td>53.0</td>\n",
       "      <td>67.0</td>\n",
       "      <td>...</td>\n",
       "      <td>19.50</td>\n",
       "      <td>0.00</td>\n",
       "      <td>0.884450</td>\n",
       "      <td>0.884260</td>\n",
       "      <td>0.115550</td>\n",
       "      <td>0.115476</td>\n",
       "      <td>1.134328</td>\n",
       "      <td>1</td>\n",
       "      <td>20</td>\n",
       "      <td>0</td>\n",
       "    </tr>\n",
       "    <tr>\n",
       "      <th>5690584</th>\n",
       "      <td>5823884</td>\n",
       "      <td>30.86</td>\n",
       "      <td>2129.42</td>\n",
       "      <td>46.36</td>\n",
       "      <td>3199.19</td>\n",
       "      <td>77.22</td>\n",
       "      <td>5328.61</td>\n",
       "      <td>2020.0</td>\n",
       "      <td>171.0</td>\n",
       "      <td>69.0</td>\n",
       "      <td>...</td>\n",
       "      <td>1.47</td>\n",
       "      <td>36.34</td>\n",
       "      <td>0.399620</td>\n",
       "      <td>0.399637</td>\n",
       "      <td>0.600380</td>\n",
       "      <td>0.600363</td>\n",
       "      <td>1.231884</td>\n",
       "      <td>0</td>\n",
       "      <td>24</td>\n",
       "      <td>0</td>\n",
       "    </tr>\n",
       "    <tr>\n",
       "      <th>2920967</th>\n",
       "      <td>2976427</td>\n",
       "      <td>178.82</td>\n",
       "      <td>5185.94</td>\n",
       "      <td>29.50</td>\n",
       "      <td>855.66</td>\n",
       "      <td>208.33</td>\n",
       "      <td>6041.60</td>\n",
       "      <td>2015.0</td>\n",
       "      <td>109.0</td>\n",
       "      <td>29.0</td>\n",
       "      <td>...</td>\n",
       "      <td>159.80</td>\n",
       "      <td>0.00</td>\n",
       "      <td>0.858372</td>\n",
       "      <td>0.858350</td>\n",
       "      <td>0.141628</td>\n",
       "      <td>0.141602</td>\n",
       "      <td>1.034483</td>\n",
       "      <td>0</td>\n",
       "      <td>15</td>\n",
       "      <td>0</td>\n",
       "    </tr>\n",
       "    <tr>\n",
       "      <th>5276757</th>\n",
       "      <td>5394474</td>\n",
       "      <td>33.69</td>\n",
       "      <td>673.86</td>\n",
       "      <td>14.43</td>\n",
       "      <td>288.64</td>\n",
       "      <td>48.12</td>\n",
       "      <td>962.50</td>\n",
       "      <td>2019.0</td>\n",
       "      <td>153.0</td>\n",
       "      <td>20.0</td>\n",
       "      <td>...</td>\n",
       "      <td>7.33</td>\n",
       "      <td>1.83</td>\n",
       "      <td>0.700114</td>\n",
       "      <td>0.700125</td>\n",
       "      <td>0.299886</td>\n",
       "      <td>0.299875</td>\n",
       "      <td>1.850000</td>\n",
       "      <td>0</td>\n",
       "      <td>24</td>\n",
       "      <td>1</td>\n",
       "    </tr>\n",
       "    <tr>\n",
       "      <th>6081660</th>\n",
       "      <td>6229777</td>\n",
       "      <td>1925.82</td>\n",
       "      <td>44294.00</td>\n",
       "      <td>0.00</td>\n",
       "      <td>0.00</td>\n",
       "      <td>1925.82</td>\n",
       "      <td>44294.00</td>\n",
       "      <td>2020.0</td>\n",
       "      <td>29.0</td>\n",
       "      <td>23.0</td>\n",
       "      <td>...</td>\n",
       "      <td>1949.00</td>\n",
       "      <td>0.00</td>\n",
       "      <td>1.000000</td>\n",
       "      <td>1.000000</td>\n",
       "      <td>0.000000</td>\n",
       "      <td>0.000000</td>\n",
       "      <td>5.521739</td>\n",
       "      <td>1</td>\n",
       "      <td>17</td>\n",
       "      <td>2</td>\n",
       "    </tr>\n",
       "  </tbody>\n",
       "</table>\n",
       "<p>5 rows × 23 columns</p>\n",
       "</div>"
      ],
      "text/plain": [
       "         Unnamed: 0  insurer_paid_amt_mean  insurer_paid_amt_sum  \\\n",
       "704084       716763                  33.54               2247.75   \n",
       "5690584     5823884                  30.86               2129.42   \n",
       "2920967     2976427                 178.82               5185.94   \n",
       "5276757     5394474                  33.69                673.86   \n",
       "6081660     6229777                1925.82              44294.00   \n",
       "\n",
       "         member_paid_amt_mean  member_paid_amt_sum  total_paid_amt_mean  \\\n",
       "704084                   4.38               293.66                37.93   \n",
       "5690584                 46.36              3199.19                77.22   \n",
       "2920967                 29.50               855.66               208.33   \n",
       "5276757                 14.43               288.64                48.12   \n",
       "6081660                  0.00                 0.00              1925.82   \n",
       "\n",
       "         total_paid_amt_sum  service_year  county_code  unique_member_cnt  \\\n",
       "704084              2541.41        2011.0         53.0               67.0   \n",
       "5690584             5328.61        2020.0        171.0               69.0   \n",
       "2920967             6041.60        2015.0        109.0               29.0   \n",
       "5276757              962.50        2019.0        153.0               20.0   \n",
       "6081660            44294.00        2020.0         29.0               23.0   \n",
       "\n",
       "         ...  insurer_paid_amt_median  member_paid_amt_median  \\\n",
       "704084   ...                    19.50                    0.00   \n",
       "5690584  ...                     1.47                   36.34   \n",
       "2920967  ...                   159.80                    0.00   \n",
       "5276757  ...                     7.33                    1.83   \n",
       "6081660  ...                  1949.00                    0.00   \n",
       "\n",
       "         insurer_paid_sum_prop  insurer_paid_mean_prop  member_paid_sum_prop  \\\n",
       "704084                0.884450                0.884260              0.115550   \n",
       "5690584               0.399620                0.399637              0.600380   \n",
       "2920967               0.858372                0.858350              0.141628   \n",
       "5276757               0.700114                0.700125              0.299886   \n",
       "6081660               1.000000                1.000000              0.000000   \n",
       "\n",
       "         member_paid_mean_prop  average_ops_cnt  sex_encoded  service_encoded  \\\n",
       "704084                0.115476         1.134328            1               20   \n",
       "5690584               0.600363         1.231884            0               24   \n",
       "2920967               0.141602         1.034483            0               15   \n",
       "5276757               0.299875         1.850000            0               24   \n",
       "6081660               0.000000         5.521739            1               17   \n",
       "\n",
       "         payer_encoded  \n",
       "704084               0  \n",
       "5690584              0  \n",
       "2920967              0  \n",
       "5276757              1  \n",
       "6081660              2  \n",
       "\n",
       "[5 rows x 23 columns]"
      ]
     },
     "execution_count": 16,
     "metadata": {},
     "output_type": "execute_result"
    }
   ],
   "source": [
    "X_train.head()"
   ]
  },
  {
   "cell_type": "code",
   "execution_count": 19,
   "metadata": {},
   "outputs": [],
   "source": [
    "X_train = X_train.drop([\"Unnamed: 0\"],axis=1)\n",
    "X_test = X_test.drop([\"Unnamed: 0\"],axis=1)"
   ]
  },
  {
   "cell_type": "code",
   "execution_count": null,
   "metadata": {},
   "outputs": [],
   "source": []
  },
  {
   "cell_type": "code",
   "execution_count": 20,
   "metadata": {},
   "outputs": [
    {
     "name": "stdout",
     "output_type": "stream",
     "text": [
      "(5360548, 22) (1340137, 22) (5360548,) (1340137,)\n",
      "训练集样本数量: 5360548\n",
      "测试集样本数量: 1340137\n",
      "Accuracy Rate: 0.5818420057053868\n",
      "-----------------------------------\n",
      "Feature: average_ops_cnt, Score: 31749.0\n",
      "Feature: service_encoded, Score: 31601.0\n",
      "Feature: county_code, Score: 29184.0\n",
      "Feature: member_months, Score: 21125.0\n",
      "Feature: payer_encoded, Score: 20395.0\n",
      "Feature: unique_member_cnt, Score: 18996.0\n",
      "Feature: total_paid_amt_median, Score: 16019.0\n",
      "Feature: insurer_paid_amt_median, Score: 15861.0\n",
      "Feature: service_year, Score: 14740.0\n",
      "Feature: clm_cnt, Score: 12678.0\n",
      "Feature: insurer_paid_amt_mean, Score: 11717.0\n",
      "Feature: total_paid_amt_mean, Score: 10994.0\n",
      "Feature: member_paid_amt_mean, Score: 10859.0\n",
      "Feature: member_paid_amt_median, Score: 9118.0\n",
      "Feature: member_paid_amt_sum, Score: 8681.0\n",
      "Feature: insurer_paid_sum_prop, Score: 7798.0\n",
      "Feature: insurer_paid_amt_sum, Score: 7649.0\n",
      "Feature: total_paid_amt_sum, Score: 6950.0\n",
      "Feature: insurer_paid_mean_prop, Score: 5587.0\n",
      "Feature: sex_encoded, Score: 3899.0\n",
      "Feature: member_paid_sum_prop, Score: 2841.0\n",
      "Feature: member_paid_mean_prop, Score: 2707.0\n"
     ]
    }
   ],
   "source": [
    "print(X_train.shape, X_test.shape, y_train.shape, y_test.shape)\n",
    "\n",
    "# 创建 DMatrix 数据\n",
    "\n",
    "dtrain = xgb.DMatrix(X_train, label=y_train)\n",
    "dtest = xgb.DMatrix(X_test, label=y_test)\n",
    "\n",
    "num_train_samples = dtrain.get_label().shape[0]\n",
    "num_test_samples = dtest.get_label().shape[0]\n",
    "\n",
    "print(\"训练集样本数量:\", num_train_samples)\n",
    "print(\"测试集样本数量:\", num_test_samples)\n",
    "\n",
    "# 设置参数，包括使用 GPU\n",
    "params = {\n",
    "    'tree_method': 'hist',  # 更新为 hist\n",
    "    'device': 'cuda',       # 指定使用 cuda\n",
    "    'objective': 'multi:softprob',\n",
    "    'num_class': 5,\n",
    "    'eval_metric': 'logloss',\n",
    "}\n",
    "\n",
    "# 训练模型c\n",
    "n_acc = []\n",
    "bst = xgb.train(params, dtrain, num_boost_round=1000)\n",
    "\n",
    "    # 预测\n",
    "preds = bst.predict(dtest)\n",
    "pred_labels = np.argmax(preds, axis=1)\n",
    "\n",
    "accuracy = accuracy_score(y_test, pred_labels)\n",
    "n_acc.append(accuracy)\n",
    "if accuracy>max(n_acc):\n",
    "    # save model\n",
    "    bst.save_model('best_model.json')\n",
    "    print(\"Saved!\")\n",
    "print(\"Accuracy Rate:\", accuracy)\n",
    "print(\"-----------------------------------\")\n",
    "importance = bst.get_score(importance_type='weight')\n",
    "sorted_importance = sorted(importance.items(), key=lambda x: x[1], reverse=True)\n",
    "\n",
    "# 打印特征重要性\n",
    "for feature, score in sorted_importance:\n",
    "    print(f'Feature: {feature}, Score: {score}')"
   ]
  },
  {
   "cell_type": "code",
   "execution_count": null,
   "metadata": {},
   "outputs": [
    {
     "data": {
      "text/plain": [
       "[0.5483118516987442,\n",
       " 0.5641826171503361,\n",
       " 0.5763127202666593,\n",
       " 0.5839246286014041,\n",
       " 0.5923431708847677,\n",
       " 0.5977530655447914,\n",
       " 0.602797325945034,\n",
       " 0.6070237595111545,\n",
       " 0.6114083858590577]"
      ]
     },
     "execution_count": 27,
     "metadata": {},
     "output_type": "execute_result"
    }
   ],
   "source": [
    "n_acc"
   ]
  },
  {
   "cell_type": "code",
   "execution_count": null,
   "metadata": {},
   "outputs": [],
   "source": [
    "table = [\n",
    "    [200,300,400,500,600,700,800,900,1000],\n",
    "    n_acc\n",
    "]"
   ]
  },
  {
   "cell_type": "code",
   "execution_count": null,
   "metadata": {},
   "outputs": [
    {
     "data": {
      "text/plain": [
       "[[200, 300, 400, 500, 600, 700, 800, 900, 1000],\n",
       " [0.5483118516987442,\n",
       "  0.5641826171503361,\n",
       "  0.5763127202666593,\n",
       "  0.5839246286014041,\n",
       "  0.5923431708847677,\n",
       "  0.5977530655447914,\n",
       "  0.602797325945034,\n",
       "  0.6070237595111545,\n",
       "  0.6114083858590577]]"
      ]
     },
     "execution_count": 29,
     "metadata": {},
     "output_type": "execute_result"
    }
   ],
   "source": [
    "table"
   ]
  },
  {
   "cell_type": "code",
   "execution_count": null,
   "metadata": {},
   "outputs": [
    {
     "data": {
      "text/plain": [
       "(1340137, 5)"
      ]
     },
     "execution_count": 20,
     "metadata": {},
     "output_type": "execute_result"
    }
   ],
   "source": [
    "preds.shape"
   ]
  },
  {
   "cell_type": "code",
   "execution_count": null,
   "metadata": {},
   "outputs": [
    {
     "data": {
      "text/plain": [
       "array([[2.28444159e-01, 4.72002894e-01, 1.96731508e-01, 2.15145461e-02,\n",
       "        8.13069269e-02],\n",
       "       [2.80243158e-03, 5.84610701e-01, 4.02723461e-01, 7.70639582e-03,\n",
       "        2.15702085e-03],\n",
       "       [6.56991303e-02, 4.62868482e-01, 3.95990074e-01, 5.90264201e-02,\n",
       "        1.64158866e-02],\n",
       "       ...,\n",
       "       [1.40571073e-01, 3.73052537e-01, 4.46786791e-01, 2.75948476e-02,\n",
       "        1.19947260e-02],\n",
       "       [1.07650485e-05, 2.04537809e-01, 1.67398542e-01, 2.13001236e-01,\n",
       "        4.15051609e-01],\n",
       "       [8.75645957e-04, 4.29841518e-01, 5.21747887e-01, 2.46262457e-02,\n",
       "        2.29087248e-02]], dtype=float32)"
      ]
     },
     "execution_count": 21,
     "metadata": {},
     "output_type": "execute_result"
    }
   ],
   "source": [
    "preds"
   ]
  },
  {
   "cell_type": "code",
   "execution_count": null,
   "metadata": {},
   "outputs": [
    {
     "name": "stdout",
     "output_type": "stream",
     "text": [
      "Accuracy Rate: 0.5977530655447914\n"
     ]
    }
   ],
   "source": [
    "import numpy as np\n",
    "from sklearn.metrics import accuracy_score\n",
    "\n",
    "pred_labels = np.argmax(preds, axis=1)\n",
    "\n",
    "accuracy = accuracy_score(y_test, pred_labels)\n",
    "print(\"Accuracy Rate:\", accuracy)"
   ]
  }
 ],
 "metadata": {
  "kernelspec": {
   "display_name": "Python 3",
   "language": "python",
   "name": "python3"
  },
  "language_info": {
   "codemirror_mode": {
    "name": "ipython",
    "version": 3
   },
   "file_extension": ".py",
   "mimetype": "text/x-python",
   "name": "python",
   "nbconvert_exporter": "python",
   "pygments_lexer": "ipython3",
   "version": "3.12.2"
  }
 },
 "nbformat": 4,
 "nbformat_minor": 2
}
